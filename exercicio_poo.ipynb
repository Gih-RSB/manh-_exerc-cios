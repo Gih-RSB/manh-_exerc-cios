{
 "cells": [
  {
   "cell_type": "markdown",
   "metadata": {},
   "source": [
    "#### Exercicios:\n",
    "\n",
    "- Criar uma classe produto\n",
    "- Com uma funcao para calcular o valor total desse produto"
   ]
  },
  {
   "cell_type": "markdown",
   "metadata": {},
   "source": [
    "#### Lista de Regras\n",
    "\n",
    "- A classe é um conjunto de objetos.\n",
    "- A classe agrupa objetos em comum.\n",
    "- A classe possui um construtor.   __init__\n",
    "- As caracteristicas dos objetos sao atributos.\n",
    "- O self acessa as caracteristicas e comportamentos da classe \n",
    "- Os métodos de trabalho (workers -Oziel Moreira Neto): são métodos a calcular, desenvolver a lógica de programação."
   ]
  },
  {
   "cell_type": "code",
   "execution_count": 2,
   "metadata": {},
   "outputs": [],
   "source": [
    "class Produto:\n",
    "    def __init__ (self, qtde, preco):\n",
    "        self.qtde = qtde\n",
    "        self.preco = preco\n",
    "    \n",
    "    def calcular_total(self):\n",
    "        return self.qtde * self.preco"
   ]
  },
  {
   "cell_type": "code",
   "execution_count": 4,
   "metadata": {},
   "outputs": [
    {
     "name": "stdout",
     "output_type": "stream",
     "text": [
      "O valor \n"
     ]
    }
   ],
   "source": [
    "p = Produto(qtde = 10, preco = 10)\n",
    "print (f'O valor ')"
   ]
  },
  {
   "cell_type": "markdown",
   "metadata": {},
   "source": [
    "### aaaaaaaaaaaaaaaaaaaaaaaaaa"
   ]
  },
  {
   "cell_type": "markdown",
   "metadata": {},
   "source": [
    "\n",
    "### Desafio :\n",
    "\n",
    "- Analise o dataset aluguel.csv da aula passada.\n",
    "- Crie uma classe que representará o arquivo.\n",
    "- Crie Três imóveis (objetos) que estão no dataset."
   ]
  }
 ],
 "metadata": {
  "kernelspec": {
   "display_name": ".venv",
   "language": "python",
   "name": "python3"
  },
  "language_info": {
   "codemirror_mode": {
    "name": "ipython",
    "version": 3
   },
   "file_extension": ".py",
   "mimetype": "text/x-python",
   "name": "python",
   "nbconvert_exporter": "python",
   "pygments_lexer": "ipython3",
   "version": "3.12.4"
  }
 },
 "nbformat": 4,
 "nbformat_minor": 2
}
